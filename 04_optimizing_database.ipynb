{
 "cells": [
  {
   "cell_type": "code",
   "execution_count": 31,
   "metadata": {},
   "outputs": [],
   "source": [
    "from pymongo import MongoClient\n",
    "from pymongo import ASCENDING, DESCENDING\n",
    "from pymongo import MongoClient, IndexModel, ASCENDING, DESCENDING"
   ]
  },
  {
   "cell_type": "code",
   "execution_count": 32,
   "metadata": {},
   "outputs": [],
   "source": [
    "client = MongoClient(\"mongodb://localhost:27018/\")\n",
    "db = client[\"anime_database\"]"
   ]
  },
  {
   "cell_type": "code",
   "execution_count": 39,
   "metadata": {},
   "outputs": [
    {
     "name": "stdout",
     "output_type": "stream",
     "text": [
      "Optimization process completed successfully.\n"
     ]
    }
   ],
   "source": [
    "db.animes_opt.drop()\n",
    "db.profiles_opt.drop()\n",
    "db.reviews_opt.drop()\n",
    "\n",
    "animes = db['animes']\n",
    "profiles = db['profiles']\n",
    "reviews = db['reviews']\n",
    "\n",
    "# Optimized collections\n",
    "animes_opt = db['animes_opt']\n",
    "profiles_opt = db['profiles_opt']\n",
    "reviews_opt = db['reviews_opt']\n",
    "\n",
    "# Index definitions\n",
    "\n",
    "index_animes_opt = [\n",
    "    IndexModel([(\"uid\", ASCENDING)]),\n",
    "    IndexModel([(\"genre\", ASCENDING)]),\n",
    "]\n",
    "\n",
    "index_profiles_opt = [\n",
    "    IndexModel([(\"profile\", ASCENDING)]),\n",
    "    IndexModel([(\"gender\", ASCENDING)]),\n",
    "]\n",
    "\n",
    "index_reviews_opt = [\n",
    "    IndexModel([(\"anime_uid\", ASCENDING)]),\n",
    "    IndexModel([(\"profile\", ASCENDING)]),\n",
    "]\n",
    "\n",
    "# Create indexes on optimized collections\n",
    "animes_opt.create_indexes(index_animes_opt)\n",
    "profiles_opt.create_indexes(index_profiles_opt)\n",
    "reviews_opt.create_indexes(index_reviews_opt)\n",
    "\n",
    "# Computed pattern\n",
    "# Computing all averages\n",
    "pipeline_animes = [\n",
    "    {\"$project\": {\"_id\": 0}},\n",
    "    {\"$lookup\": {\n",
    "        \"from\": \"reviews\",\n",
    "        \"localField\": \"uid\",\n",
    "        \"foreignField\": \"anime_uid\",\n",
    "        \"as\": \"reviews\"\n",
    "    }},\n",
    "    {\"$project\": {\n",
    "        \"uid\": 1,\n",
    "        \"title\": 1,\n",
    "        \"synopsis\": 1,\n",
    "        \"genre\": 1,\n",
    "        \"episodes\": 1,\n",
    "        \"members\": 1,\n",
    "        \"popularity\": 1,\n",
    "        \"ranked\": 1,\n",
    "        \"score\": 1,\n",
    "        \"start_years\": 1,\n",
    "        \"end_years\": 1,\n",
    "        \"average_story\": {\"$avg\": \"$reviews.scores.Story\"},\n",
    "        \"average_animation\": {\"$avg\": \"$reviews.scores.Animation\"},\n",
    "        \"average_sound\": {\"$avg\": \"$reviews.scores.Sound\"},\n",
    "        \"average_character\": {\"$avg\": \"$reviews.scores.Character\"},\n",
    "        \"average_enjoyment\": {\"$avg\": \"$reviews.scores.Enjoyment\"},\n",
    "        \"average_score\": {\"$avg\": \"$reviews.scores.Overall\"}\n",
    "    }},\n",
    "    {\"$out\": \"animes_opt\"}\n",
    "]\n",
    "\n",
    "animes.aggregate(pipeline_animes, allowDiskUse=True)\n",
    "\n",
    "# Transfer data from 'profiles' to 'profiles_opt'\n",
    "pipeline_profiles = [\n",
    "    {\"$project\": {\"_id\": 0}},  # Exclude _id field from output\n",
    "    {\"$out\": \"profiles_opt\"}  # Output to new collection\n",
    "]\n",
    "profiles.aggregate(pipeline_profiles, allowDiskUse=True)\n",
    "\n",
    "# Transfer data from 'reviews' to 'reviews_opt'\n",
    "pipeline_reviews = [\n",
    "    {\"$project\": {\"_id\": 0}},  # Exclude _id field from output\n",
    "    {\"$out\": \"reviews_opt\"}  # Output to new collection\n",
    "]\n",
    "reviews.aggregate(pipeline_reviews, allowDiskUse=True)\n",
    "\n",
    "\n",
    "\n",
    "print(\"Optimization process completed successfully.\")"
   ]
  },
  {
   "cell_type": "code",
   "execution_count": null,
   "metadata": {},
   "outputs": [],
   "source": []
  },
  {
   "cell_type": "code",
   "execution_count": null,
   "metadata": {},
   "outputs": [],
   "source": []
  },
  {
   "cell_type": "code",
   "execution_count": null,
   "metadata": {},
   "outputs": [],
   "source": []
  }
 ],
 "metadata": {
  "kernelspec": {
   "display_name": "sbpproj",
   "language": "python",
   "name": "python3"
  },
  "language_info": {
   "codemirror_mode": {
    "name": "ipython",
    "version": 3
   },
   "file_extension": ".py",
   "mimetype": "text/x-python",
   "name": "python",
   "nbconvert_exporter": "python",
   "pygments_lexer": "ipython3",
   "version": "3.12.3"
  }
 },
 "nbformat": 4,
 "nbformat_minor": 2
}
